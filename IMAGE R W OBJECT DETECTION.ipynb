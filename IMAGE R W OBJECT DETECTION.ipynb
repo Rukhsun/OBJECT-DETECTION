{
 "cells": [
  {
   "cell_type": "code",
   "execution_count": 2,
   "metadata": {},
   "outputs": [],
   "source": [
    "import cv2\n",
    "import imutils"
   ]
  },
  {
   "cell_type": "code",
   "execution_count": 2,
   "metadata": {},
   "outputs": [
    {
     "name": "stdout",
     "output_type": "stream",
     "text": [
      "Collecting imutils\n",
      "  Downloading https://files.pythonhosted.org/packages/3f/d3/ecb4d108f6c1041d24842a345ee0123cd7f366ba75cf122601e856d42ba2/imutils-0.5.4.tar.gz\n",
      "Building wheels for collected packages: imutils\n",
      "  Building wheel for imutils (setup.py): started\n",
      "  Building wheel for imutils (setup.py): finished with status 'done'\n",
      "  Stored in directory: C:\\Users\\DELL\\AppData\\Local\\pip\\Cache\\wheels\\db\\23\\45\\fc7424906880ffa9577a2a428b961f2b79e0e21d9f71e7e6bc\n",
      "Successfully built imutils\n",
      "Installing collected packages: imutils\n",
      "Successfully installed imutils-0.5.4\n",
      "Note: you may need to restart the kernel to use updated packages.\n"
     ]
    }
   ],
   "source": [
    "pip install imutils"
   ]
  },
  {
   "cell_type": "code",
   "execution_count": 3,
   "metadata": {},
   "outputs": [
    {
     "data": {
      "text/plain": [
       "True"
      ]
     },
     "execution_count": 3,
     "metadata": {},
     "output_type": "execute_result"
    }
   ],
   "source": [
    "img=cv2.imread(\"lupu.png\")#reading an image\n",
    "resizeImg=imutils.resize(img, width=20)#resize an image\n",
    "cv2.imwrite(\"resizedImageg.png\",resizeImg)#saving an image"
   ]
  },
  {
   "cell_type": "code",
   "execution_count": 4,
   "metadata": {},
   "outputs": [
    {
     "data": {
      "text/plain": [
       "True"
      ]
     },
     "execution_count": 4,
     "metadata": {},
     "output_type": "execute_result"
    }
   ],
   "source": [
    "#blurr image\n",
    "gaussianBlurImg=cv2.GaussianBlur(img,(21,21),0)\n",
    "cv2.imwrite(\"gaussianImage.png\",gaussianBlurImg)"
   ]
  },
  {
   "cell_type": "code",
   "execution_count": 5,
   "metadata": {},
   "outputs": [
    {
     "data": {
      "text/plain": [
       "True"
      ]
     },
     "execution_count": 5,
     "metadata": {},
     "output_type": "execute_result"
    }
   ],
   "source": [
    "#threshold, gray image\n",
    "GI=cv2.cvtColor(img,cv2.COLOR_BGR2GRAY)#color image into gray image\n",
    "TM=cv2.threshold(GI,180,255,cv2.THRESH_BINARY)[1]#Converting in to binay image, 0,1 value i choose 1\n",
    "cv2.imwrite(\"TI.png\",TM)"
   ]
  },
  {
   "cell_type": "code",
   "execution_count": 1,
   "metadata": {},
   "outputs": [],
   "source": [
    "#video capturing \n",
    "import cv2\n",
    "vs=cv2.VideoCapture(0)#initializing camera\n",
    "while True: #infinite loop\n",
    "    _,img=vs.read()#read frame from camera\n",
    "    cv2.imshow(\"VideoStream\",img)\n",
    "    key=cv2.waitKey(1) & 0xFF#hexadecimal value\n",
    "    if key==ord(\"q\"):#break infinite loop by clicking q\n",
    "        break\n",
    "        \n",
    "vs.release()\n",
    "cv2.destroyAllWindows()"
   ]
  },
  {
   "cell_type": "code",
   "execution_count": null,
   "metadata": {},
   "outputs": [],
   "source": [
    "import imutils\n",
    "import time\n",
    "import cv2\n",
    "vs = cv2.VideoCapture(0)\n",
    "firstFrame = None\n",
    "area=500\n",
    "while True:\n",
    "    _,img = vs.read()\n",
    "    text = \"Normal\"\n",
    "    img = imutils.resize(img, width=500)\n",
    "    grayImg = cv2.cvtColor(img, cv2.COLOR_BGR2GRAY)\n",
    "    grayImg = cv2.GaussianBlur(grayImg, (21, 21), 0)\n",
    "    if firstFrame is None:\n",
    "        firstFrame = grayImg\n",
    "        continue\n",
    "        imgDiff = cv2.absdiff(firstFrame, grayImg)\n",
    "        threshImg = cv2.threshold(imgDiff, 25, 255, cv2.THRESH_BINARY)[1]\n",
    "        threshImg = cv2.dilate(threshImg, None, iterations=2)\n",
    "        cnts = cv2.findContours(threshImg.copy(), cv2.RETR_EXTERNAL,\n",
    "                                cv2.CHAIN_APPROX_SIMPLE)\n",
    "        cnts = imutils.grab_contours(cnts)\n",
    "        for c in cnts:\n",
    "            if cv2.contourArea(c) < area:\n",
    "                continue\n",
    "                (x, y, w, h) = cv2.boundingRect(c)\n",
    "                cv2.rectangle(img, (x, y), (x + w, y + h), (0, 255, 0), 2)\n",
    "                text = \"Moving Object detected\"\n",
    "                print(text)\n",
    "                cv2.putText(img, text, (10, 20),\n",
    "                            cv2.FONT_HERSHEY_SIMPLEX, 0.5, (0, 0, 255), 2)\n",
    "                cv2.imshow(\"VideoStream\", img)\n",
    "                cv2.imshow(\"Thresh\", threshImg)\n",
    "                cv2.imshow(\"Image Difference\", imgDiff)\n",
    "                key = cv2.waitKey(1) & 0xFF\n",
    "                if key == ord(\"q\"):\n",
    "                    break\n",
    "vs.release()\n",
    "cv2.destroyAllWindows()"
   ]
  },
  {
   "cell_type": "code",
   "execution_count": null,
   "metadata": {},
   "outputs": [],
   "source": []
  }
 ],
 "metadata": {
  "kernelspec": {
   "display_name": "Python 3",
   "language": "python",
   "name": "python3"
  },
  "language_info": {
   "codemirror_mode": {
    "name": "ipython",
    "version": 3
   },
   "file_extension": ".py",
   "mimetype": "text/x-python",
   "name": "python",
   "nbconvert_exporter": "python",
   "pygments_lexer": "ipython3",
   "version": "3.7.3"
  }
 },
 "nbformat": 4,
 "nbformat_minor": 2
}
